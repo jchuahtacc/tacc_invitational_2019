{
 "cells": [
  {
   "cell_type": "code",
   "execution_count": 4,
   "metadata": {},
   "outputs": [
    {
     "name": "stdout",
     "output_type": "stream",
     "text": [
      "12000\n",
      "15000\n",
      "9600\n",
      "2048\n",
      "3145728\n",
      "220\n"
     ]
    }
   ],
   "source": [
    "input = open(\"../sample_data/allocations.txt\", \"r\")\n",
    "lines = input.readlines()\n",
    "\n",
    "def getGigabytes(tokens):\n",
    "    data = int(tokens[0])\n",
    "    unit = tokens[1]\n",
    "    volume = 1\n",
    "    if unit == 'TERABYTES':\n",
    "        volume = 1024\n",
    "    elif unit == 'PETABYTES':\n",
    "        volume = 1024 * 1024\n",
    "    return data * volume\n",
    "\n",
    "for line in lines:\n",
    "    tokens = [ token.strip() for token in line.split() ]\n",
    "    system = tokens[0]\n",
    "    if system in [ 'STAMPEDE2', 'LONESTAR5']:\n",
    "        nodes = int(tokens[1])\n",
    "        hours = int(tokens[3])\n",
    "        jobs = int(tokens[5])\n",
    "        print(nodes * hours * jobs)\n",
    "    elif system in [ 'CORRAL', 'RANCH' ]:\n",
    "        gigabytes = getGigabytes(tokens[1:])\n",
    "        print(gigabytes)\n",
    "    elif system == 'HIKARI':\n",
    "        cores = int(tokens[1])\n",
    "        nodes = int(tokens[3])\n",
    "        hours = int(tokens[5])\n",
    "        jobs = int(tokens[7])\n",
    "        print(cores * nodes * hours * jobs)\n",
    "    elif system == 'WRANGLER':\n",
    "        nodes = int(tokens[1])\n",
    "        hours = int(tokens[3])\n",
    "        jobs = int(tokens[5])\n",
    "        gigabytes = getGigabytes(tokens[7:])\n",
    "        print(nodes * hours * jobs + gigabytes)"
   ]
  }
 ],
 "metadata": {
  "kernelspec": {
   "display_name": "Python 3",
   "language": "python",
   "name": "python3"
  },
  "language_info": {
   "codemirror_mode": {
    "name": "ipython",
    "version": 3
   },
   "file_extension": ".py",
   "mimetype": "text/x-python",
   "name": "python",
   "nbconvert_exporter": "python",
   "pygments_lexer": "ipython3",
   "version": "3.7.0"
  }
 },
 "nbformat": 4,
 "nbformat_minor": 2
}
