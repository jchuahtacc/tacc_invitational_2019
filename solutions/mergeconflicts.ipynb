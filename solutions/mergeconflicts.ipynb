{
 "cells": [
  {
   "cell_type": "code",
   "execution_count": 9,
   "metadata": {},
   "outputs": [
    {
     "name": "stdout",
     "output_type": "stream",
     "text": [
      "AUTOMERGE FILE2 FILE3\n",
      "AUTOMERGE FILE1 CONFLICT FILE2 FILE3\n"
     ]
    }
   ],
   "source": [
    "input = open(\"../sample_data/mergeconflicts.txt\", \"r\")\n",
    "lines = input.readlines()\n",
    "\n",
    "timestamp = 0\n",
    "branches = {\n",
    "    \"master\" : { }\n",
    "}\n",
    "\n",
    "master = branches[\"master\"]\n",
    "\n",
    "for line in lines:\n",
    "    timestamp += 1\n",
    "    tokens = [ token.strip() for token in line.split() ]\n",
    "    if tokens[0] == \"COMMIT\":\n",
    "        if tokens[1] not in branches:\n",
    "            branches[tokens[1]] = { }\n",
    "        branch = branches[tokens[1]]\n",
    "        files = tokens[2:]\n",
    "        for file in files:\n",
    "            branch[file] = timestamp\n",
    "    elif tokens[0] == \"MERGE\":\n",
    "        automerge = [ ]\n",
    "        conflicts = [ ]\n",
    "        branch = branches[tokens[1]]\n",
    "        for file, timestamp in branch.items():\n",
    "            if file not in master:\n",
    "                automerge.append(file)\n",
    "                master[file] = timestamp\n",
    "            else:\n",
    "                if master[file] < timestamp:\n",
    "                    automerge.append(file)\n",
    "                    master[file] = timestamp\n",
    "                else:\n",
    "                    conflicts.append(file)\n",
    "        output = \"\"\n",
    "        if len(automerge) > 0:\n",
    "            output = \"AUTOMERGE \" + \" \".join(automerge)\n",
    "        if len(conflicts) > 0:\n",
    "            if len(output) > 0:\n",
    "                output += \" \"\n",
    "            output += \"CONFLICT \" + \" \".join(conflicts)\n",
    "        print(output)"
   ]
  },
  {
   "cell_type": "code",
   "execution_count": null,
   "metadata": {},
   "outputs": [],
   "source": []
  }
 ],
 "metadata": {
  "kernelspec": {
   "display_name": "Python 3",
   "language": "python",
   "name": "python3"
  },
  "language_info": {
   "codemirror_mode": {
    "name": "ipython",
    "version": 3
   },
   "file_extension": ".py",
   "mimetype": "text/x-python",
   "name": "python",
   "nbconvert_exporter": "python",
   "pygments_lexer": "ipython3",
   "version": "3.7.0"
  }
 },
 "nbformat": 4,
 "nbformat_minor": 2
}
