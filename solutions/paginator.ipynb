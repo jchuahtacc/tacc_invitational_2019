{
 "cells": [
  {
   "cell_type": "code",
   "execution_count": 7,
   "metadata": {},
   "outputs": [
    {
     "name": "stdout",
     "output_type": "stream",
     "text": [
      "... 2 3 4 5 6 ...\n",
      "1 2 3\n",
      "... 3 4 5 6 7\n"
     ]
    }
   ],
   "source": [
    "input = open(\"../sample_data/paginator.txt\", \"r\")\n",
    "lines = input.readlines()\n",
    "\n",
    "for line in lines:\n",
    "    tokens = line.split()\n",
    "    current = int(tokens[0])\n",
    "    total = int(tokens[1])\n",
    "    start = current - 2\n",
    "    end = current + 2\n",
    "    if start < 1:\n",
    "        start = 1\n",
    "    if end > total:\n",
    "        end = total\n",
    "    output = \" \".join([ str(num) for num in range(start, end + 1, 1)])\n",
    "    if start > 1:\n",
    "        output = \"... \" + output\n",
    "    if end < total:\n",
    "        output = output + \" ...\"\n",
    "    print(output)\n",
    "        "
   ]
  }
 ],
 "metadata": {
  "kernelspec": {
   "display_name": "Python 3",
   "language": "python",
   "name": "python3"
  },
  "language_info": {
   "codemirror_mode": {
    "name": "ipython",
    "version": 3
   },
   "file_extension": ".py",
   "mimetype": "text/x-python",
   "name": "python",
   "nbconvert_exporter": "python",
   "pygments_lexer": "ipython3",
   "version": "3.7.0"
  }
 },
 "nbformat": 4,
 "nbformat_minor": 2
}
