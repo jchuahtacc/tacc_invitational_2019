{
 "cells": [
  {
   "cell_type": "code",
   "execution_count": 15,
   "metadata": {},
   "outputs": [
    {
     "name": "stdout",
     "output_type": "stream",
     "text": [
      "FILE_C\n",
      "FILE_B\n",
      "FILE_A\n"
     ]
    }
   ],
   "source": [
    "input = open(\"../student/elasticsearch.txt\", \"r\")\n",
    "lines = input.readlines()\n",
    "\n",
    "shards = [ ]\n",
    "files = { }\n",
    "\n",
    "for line in lines:\n",
    "    line = line.strip()\n",
    "    if line == \"SHARD\":\n",
    "        shards.append(\n",
    "            { }\n",
    "        )\n",
    "    elif line.split()[0] == \"SEARCH\":\n",
    "        search_terms = line.split()[1:]\n",
    "        for term in search_terms:\n",
    "            score = 0\n",
    "            for shard in shards:\n",
    "                for filename, terms in shard.items():\n",
    "                    if term in terms:\n",
    "                        score = len(terms) - terms.index(term)\n",
    "                        files[filename] = files[filename] + score\n",
    "    else:\n",
    "        tokens = line.split()\n",
    "        filename = tokens[0]\n",
    "        files[filename] = 0\n",
    "        shards[-1][filename] = tokens[1:]\n",
    "\n",
    "scored_files = [ ]\n",
    "for filename, score in files.items():\n",
    "    scored_files.append( (filename, score) )\n",
    "\n",
    "scored_files.sort(key=lambda item: item[1], reverse=True)\n",
    "for scored_file in scored_files:\n",
    "    print(scored_file[0])"
   ]
  },
  {
   "cell_type": "code",
   "execution_count": null,
   "metadata": {},
   "outputs": [],
   "source": []
  }
 ],
 "metadata": {
  "kernelspec": {
   "display_name": "Python 3",
   "language": "python",
   "name": "python3"
  },
  "language_info": {
   "codemirror_mode": {
    "name": "ipython",
    "version": 3
   },
   "file_extension": ".py",
   "mimetype": "text/x-python",
   "name": "python",
   "nbconvert_exporter": "python",
   "pygments_lexer": "ipython3",
   "version": "3.7.0"
  }
 },
 "nbformat": 4,
 "nbformat_minor": 2
}
