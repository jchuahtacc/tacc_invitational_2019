{
 "cells": [
  {
   "cell_type": "code",
   "execution_count": 5,
   "metadata": {},
   "outputs": [
    {
     "name": "stdout",
     "output_type": "stream",
     "text": [
      "JCHUAH MFA NOTPAIRED\n",
      "JMEIRING APPROVAL INCOMPLETE\n",
      "JSTUBBS SETUP_COMPLETE\n"
     ]
    }
   ],
   "source": [
    "input = open(\"../sample_data/onboarding.txt\", \"r\")\n",
    "lines = input.readlines()\n",
    "\n",
    "users = { }\n",
    "\n",
    "steps = lines[0].split()[1:]\n",
    "events = lines[1:]\n",
    "\n",
    "for event in events:\n",
    "    tokens = event.split()\n",
    "    username = tokens[0]\n",
    "    stepname = tokens[1]\n",
    "    state = tokens[2]\n",
    "    if username not in users:\n",
    "        users[username] = { }\n",
    "        for step in steps:\n",
    "            users[username][step] = \"INCOMPLETE\"\n",
    "    users[username][stepname] = state.strip()\n",
    "\n",
    "user_list = [ (username, steps) for username, steps in users.items() ]\n",
    "user_list.sort(key=lambda item: item[0])\n",
    "\n",
    "for user in user_list:\n",
    "    username = user[0]\n",
    "    output = username + \" \"\n",
    "    steps = user[1]\n",
    "    setup_complete = True\n",
    "    for step, status in steps.items():\n",
    "        if status != \"COMPLETE\":\n",
    "            setup_complete = False\n",
    "            output += step + \" \" + status\n",
    "            break\n",
    "    if setup_complete:\n",
    "        output += \"SETUP_COMPLETE\"\n",
    "    print(output)"
   ]
  }
 ],
 "metadata": {
  "kernelspec": {
   "display_name": "Python 3",
   "language": "python",
   "name": "python3"
  },
  "language_info": {
   "codemirror_mode": {
    "name": "ipython",
    "version": 3
   },
   "file_extension": ".py",
   "mimetype": "text/x-python",
   "name": "python",
   "nbconvert_exporter": "python",
   "pygments_lexer": "ipython3",
   "version": "3.7.0"
  }
 },
 "nbformat": 4,
 "nbformat_minor": 2
}
