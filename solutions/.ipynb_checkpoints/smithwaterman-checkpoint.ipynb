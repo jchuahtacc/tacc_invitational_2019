{
 "cells": [
  {
   "cell_type": "code",
   "execution_count": 23,
   "metadata": {},
   "outputs": [
    {
     "ename": "NameError",
     "evalue": "name 'col_i' is not defined",
     "output_type": "error",
     "traceback": [
      "\u001b[0;31m---------------------------------------------------------------------------\u001b[0m",
      "\u001b[0;31mNameError\u001b[0m                                 Traceback (most recent call last)",
      "\u001b[0;32m<ipython-input-23-266d54c20119>\u001b[0m in \u001b[0;36m<module>\u001b[0;34m()\u001b[0m\n\u001b[1;32m     18\u001b[0m             \u001b[0mcol_j\u001b[0m \u001b[0;34m=\u001b[0m \u001b[0mrow\u001b[0m\u001b[0;34m.\u001b[0m\u001b[0mindex\u001b[0m\u001b[0;34m(\u001b[0m\u001b[0mmax_value\u001b[0m\u001b[0;34m)\u001b[0m\u001b[0;34m\u001b[0m\u001b[0m\n\u001b[1;32m     19\u001b[0m     \u001b[0mrow_sequence_match\u001b[0m \u001b[0;34m=\u001b[0m \u001b[0mrow_sequence\u001b[0m\u001b[0;34m[\u001b[0m\u001b[0mrow_i\u001b[0m\u001b[0;34m]\u001b[0m\u001b[0;34m\u001b[0m\u001b[0m\n\u001b[0;32m---> 20\u001b[0;31m     \u001b[0mcol_sequence_match\u001b[0m \u001b[0;34m=\u001b[0m \u001b[0mcol_sequence\u001b[0m\u001b[0;34m[\u001b[0m\u001b[0mcol_i\u001b[0m\u001b[0;34m]\u001b[0m\u001b[0;34m\u001b[0m\u001b[0m\n\u001b[0m\u001b[1;32m     21\u001b[0m     \u001b[0;32mwhile\u001b[0m \u001b[0mrow_i\u001b[0m \u001b[0;34m!=\u001b[0m \u001b[0;36m0\u001b[0m \u001b[0;32mand\u001b[0m \u001b[0mcol_j\u001b[0m \u001b[0;34m!=\u001b[0m \u001b[0;36m0\u001b[0m\u001b[0;34m:\u001b[0m\u001b[0;34m\u001b[0m\u001b[0m\n\u001b[1;32m     22\u001b[0m         \u001b[0;32mif\u001b[0m \u001b[0mmatrix\u001b[0m\u001b[0;34m[\u001b[0m\u001b[0mrow_i\u001b[0m \u001b[0;34m-\u001b[0m \u001b[0;36m1\u001b[0m\u001b[0;34m]\u001b[0m\u001b[0;34m[\u001b[0m\u001b[0mcol_j\u001b[0m \u001b[0;34m-\u001b[0m \u001b[0;36m1\u001b[0m\u001b[0;34m]\u001b[0m \u001b[0;34m>\u001b[0m \u001b[0mmax\u001b[0m\u001b[0;34m(\u001b[0m\u001b[0;34m[\u001b[0m \u001b[0mmatrix\u001b[0m\u001b[0;34m[\u001b[0m\u001b[0mrow_i\u001b[0m \u001b[0;34m-\u001b[0m \u001b[0;36m1\u001b[0m\u001b[0;34m]\u001b[0m\u001b[0;34m[\u001b[0m\u001b[0mcol_j\u001b[0m\u001b[0;34m]\u001b[0m\u001b[0;34m,\u001b[0m \u001b[0mmatrix\u001b[0m\u001b[0;34m[\u001b[0m\u001b[0mrow_i\u001b[0m\u001b[0;34m]\u001b[0m\u001b[0;34m[\u001b[0m\u001b[0mcol_j\u001b[0m \u001b[0;34m-\u001b[0m \u001b[0;36m1\u001b[0m\u001b[0;34m]\u001b[0m \u001b[0;34m]\u001b[0m\u001b[0;34m)\u001b[0m\u001b[0;34m:\u001b[0m\u001b[0;34m\u001b[0m\u001b[0m\n",
      "\u001b[0;31mNameError\u001b[0m: name 'col_i' is not defined"
     ]
    }
   ],
   "source": [
    "input = open(\"../sample_data/smithwaterman.txt\", \"r\")\n",
    "lines = input.readlines()\n",
    "\n",
    "while len(lines) > 0:\n",
    "    tokens = lines[0].split()\n",
    "    row_count = int(tokens[0])\n",
    "    column_count = int(tokens[2])\n",
    "    col_sequence = [ acid.strip() for acid in lines[1].split()[1:] ]\n",
    "    rows = [ line for line in lines[2:row_count + 2]]\n",
    "    row_sequence = [ line[0] for line in rows ]\n",
    "    matrix = [ [ int(cell.strip()) for cell in row.split()[1:] ] for row in rows ]\n",
    "    max_value = max( [ max(row) for row in matrix ] )\n",
    "    row_i = 0\n",
    "    col_j = 0\n",
    "    for row in matrix:\n",
    "        if max_value in row:\n",
    "            row_i = matrix.index(row)\n",
    "            col_j = row.index(max_value)\n",
    "    row_sequence_match = row_sequence[row_i]\n",
    "    col_sequence_match = col_sequence[col_j]\n",
    "    while row_i != 0 and col_j != 0:\n",
    "        if matrix[row_i - 1][col_j - 1] > max([ matrix[row_i - 1][col_j], matrix[row_i][col_j - 1] ]):\n",
    "            row_i -= 1\n",
    "            col_j -= 1\n",
    "            row_sequence_match = row_sequence[row_i] + row_sequence_match\n",
    "            col_sequence_match = col_sequence[col_j] + col_sequence_match\n",
    "        elif matrix[row_i - 1][col_j] > matrix[row_i][col_j - 1]:\n",
    "            row_i -= 1\n",
    "            row_sequence_match = row_sequence[row_i] + row_sequence_match\n",
    "            col_sequence_match = \"-\" + col_sequence_match\n",
    "        else:\n",
    "            col_j -= 1\n",
    "            row_sequence_match = \"-\" + row_sequence_match\n",
    "            col_sequence_match = col_sequence[col_j] + col_sequence_match\n",
    "    print(\"ROW \" + row_sequence_match)\n",
    "    print(\"COLUMN \" + col_sequence_match)\n",
    "    lines = lines[row_count + 2:]"
   ]
  }
 ],
 "metadata": {
  "kernelspec": {
   "display_name": "Python 3",
   "language": "python",
   "name": "python3"
  },
  "language_info": {
   "codemirror_mode": {
    "name": "ipython",
    "version": 3
   },
   "file_extension": ".py",
   "mimetype": "text/x-python",
   "name": "python",
   "nbconvert_exporter": "python",
   "pygments_lexer": "ipython3",
   "version": "3.7.0"
  }
 },
 "nbformat": 4,
 "nbformat_minor": 2
}
