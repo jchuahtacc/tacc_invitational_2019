{
 "cells": [
  {
   "cell_type": "code",
   "execution_count": 20,
   "metadata": {},
   "outputs": [
    {
     "name": "stdout",
     "output_type": "stream",
     "text": [
      "STREET CITY\n",
      "USERNAME DOMAIN\n",
      "ADDRESS EMAIL\n",
      "NAME INFO\n"
     ]
    }
   ],
   "source": [
    "input = open(\"../sample_data/changedetection.txt\", \"r\")\n",
    "lines = [ line.strip() for line in  input.readlines() ]\n",
    "document = lines[:lines.index(\"/HTML\") + 1]\n",
    "changes = lines[lines.index(\"/HTML\") + 1:]\n",
    "\n",
    "for change_line in changes:\n",
    "    change = change_line.split()[1].strip()\n",
    "    elements = document[document.index(change) + 1:document.index(\"/\" + change)]\n",
    "    results = [ ]\n",
    "    while len(elements) > 0:\n",
    "        element = elements[0]\n",
    "        results.append(element)\n",
    "        elements = elements[elements.index(\"/\" + element) + 1:]\n",
    "    print(\" \".join(results))"
   ]
  }
 ],
 "metadata": {
  "kernelspec": {
   "display_name": "Python 3",
   "language": "python",
   "name": "python3"
  },
  "language_info": {
   "codemirror_mode": {
    "name": "ipython",
    "version": 3
   },
   "file_extension": ".py",
   "mimetype": "text/x-python",
   "name": "python",
   "nbconvert_exporter": "python",
   "pygments_lexer": "ipython3",
   "version": "3.7.0"
  }
 },
 "nbformat": 4,
 "nbformat_minor": 2
}
